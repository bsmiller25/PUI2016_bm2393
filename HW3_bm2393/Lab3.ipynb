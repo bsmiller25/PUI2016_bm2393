{
 "cells": [
  {
   "cell_type": "code",
   "execution_count": 6,
   "metadata": {
    "collapsed": false
   },
   "outputs": [
    {
     "name": "stdout",
     "output_type": "stream",
     "text": [
      "We can reject the null hypothesis at the 5% significance level with a Z score of -2.15987810043 which is greater than (in absolute terms) the 1.96 associated with significance of .05\n"
     ]
    }
   ],
   "source": [
    "import numpy as np\n",
    "\n",
    "# bring in the data\n",
    "with open('times.txt') as f:\n",
    "    times = f.readlines()\n",
    "    \n",
    "# format it\n",
    "times = [float(i) for i in times]\n",
    "\n",
    "# old parameters\n",
    "mean_old = 36\n",
    "std_old = 6\n",
    "\n",
    "# H0: commute time is the same or longer\n",
    "# H1: commute time is less\n",
    "# alpha = .05\n",
    "\n",
    "# calculate the z score\n",
    "z = (np.mean(times) - mean_old) / (np.std(times) / np.sqrt(len(times)))\n",
    "\n",
    "print \"We can reject the null hypothesis at the 5% significance level with a Z score of {} which is greater than (in absolute terms) the 1.96 associated with significance of .05\".format(z)\n"
   ]
  }
 ],
 "metadata": {
  "kernelspec": {
   "display_name": "PUI2016_Python2",
   "language": "python",
   "name": "pui2016_python2"
  },
  "language_info": {
   "codemirror_mode": {
    "name": "ipython",
    "version": 2
   },
   "file_extension": ".py",
   "mimetype": "text/x-python",
   "name": "python",
   "nbconvert_exporter": "python",
   "pygments_lexer": "ipython2",
   "version": "2.7.12"
  }
 },
 "nbformat": 4,
 "nbformat_minor": 0
}
