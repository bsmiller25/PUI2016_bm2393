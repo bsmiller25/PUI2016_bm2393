{
 "cells": [
  {
   "cell_type": "markdown",
   "metadata": {
    "collapsed": true
   },
   "source": [
    "# Assignment 4:\n",
    "    test if the distribution of ages is the same for \n",
    "    \n",
    "    1) male and female riders\n",
    "    \n",
    "    2) day and night riders\n",
    "    \n",
    "    use 3 tests: KS, Pearson's, Spearman's. \n",
    "    \n",
    "    For the KS do the test with the entire dataset and with a subset 200 times smaller\n",
    "    \n",
    "    Choose a significant threshold for the whole exercise. \n",
    "    \n",
    "    For each test phrase the Null Hypothesis in words.\n",
    "    \n",
    "    Describe the return of the scipy function you use in each case.\n",
    "    \n",
    "    State the result in terms of rejection of the Null."
   ]
  },
  {
   "cell_type": "code",
   "execution_count": 1,
   "metadata": {
    "collapsed": false,
    "scrolled": true
   },
   "outputs": [
    {
     "name": "stdout",
     "output_type": "stream",
     "text": [
      "Populating the interactive namespace from numpy and matplotlib\n"
     ]
    }
   ],
   "source": [
    "# my usual imports and setups\n",
    "import pylab as pl\n",
    "import pandas as pd\n",
    "import numpy as np\n",
    "#imports downloader\n",
    "from getCitiBikeCSV import getCitiBikeCSV\n",
    "\n",
    "%pylab inline\n",
    "\n",
    "import os\n"
   ]
  },
  {
   "cell_type": "markdown",
   "metadata": {},
   "source": [
    "# I am reading in data from January 2015. It would be a good idea to use data from warmer months, since there are more riders in the warm weather and the more data the smaller the STATISTICAL NOISE. You should use data from multiple months, joining multiple datasets, thus addressing systematic errors as well"
   ]
  },
  {
   "cell_type": "code",
   "execution_count": 2,
   "metadata": {
    "collapsed": false
   },
   "outputs": [
    {
     "name": "stdout",
     "output_type": "stream",
     "text": [
      "Downloading 201505\n",
      "file in place, you can continue\n"
     ]
    }
   ],
   "source": [
    "datestring1 = '201505'\n",
    "getCitiBikeCSV(datestring1)"
   ]
  },
  {
   "cell_type": "code",
   "execution_count": 3,
   "metadata": {
    "collapsed": false
   },
   "outputs": [
    {
     "name": "stdout",
     "output_type": "stream",
     "text": [
      "Downloading 201506\n",
      "file in place, you can continue\n"
     ]
    }
   ],
   "source": [
    "datestring2 = '201506'\n",
    "getCitiBikeCSV(datestring2)"
   ]
  },
  {
   "cell_type": "code",
   "execution_count": 4,
   "metadata": {
    "collapsed": false
   },
   "outputs": [
    {
     "data": {
      "text/html": [
       "<div>\n",
       "<table border=\"1\" class=\"dataframe\">\n",
       "  <thead>\n",
       "    <tr style=\"text-align: right;\">\n",
       "      <th></th>\n",
       "      <th>tripduration</th>\n",
       "      <th>starttime</th>\n",
       "      <th>stoptime</th>\n",
       "      <th>start station id</th>\n",
       "      <th>start station name</th>\n",
       "      <th>start station latitude</th>\n",
       "      <th>start station longitude</th>\n",
       "      <th>end station id</th>\n",
       "      <th>end station name</th>\n",
       "      <th>end station latitude</th>\n",
       "      <th>end station longitude</th>\n",
       "      <th>bikeid</th>\n",
       "      <th>usertype</th>\n",
       "      <th>birth year</th>\n",
       "      <th>gender</th>\n",
       "    </tr>\n",
       "  </thead>\n",
       "  <tbody>\n",
       "    <tr>\n",
       "      <th>0</th>\n",
       "      <td>415</td>\n",
       "      <td>5/1/2015 00:00:11</td>\n",
       "      <td>5/1/2015 00:07:06</td>\n",
       "      <td>477</td>\n",
       "      <td>W 41 St &amp; 8 Ave</td>\n",
       "      <td>40.756405</td>\n",
       "      <td>-73.990026</td>\n",
       "      <td>442</td>\n",
       "      <td>W 27 St &amp; 7 Ave</td>\n",
       "      <td>40.746647</td>\n",
       "      <td>-73.993915</td>\n",
       "      <td>17012</td>\n",
       "      <td>Subscriber</td>\n",
       "      <td>1981.0</td>\n",
       "      <td>1</td>\n",
       "    </tr>\n",
       "    <tr>\n",
       "      <th>1</th>\n",
       "      <td>1523</td>\n",
       "      <td>5/1/2015 00:00:28</td>\n",
       "      <td>5/1/2015 00:25:52</td>\n",
       "      <td>293</td>\n",
       "      <td>Lafayette St &amp; E 8 St</td>\n",
       "      <td>40.730287</td>\n",
       "      <td>-73.990765</td>\n",
       "      <td>324</td>\n",
       "      <td>DeKalb Ave &amp; Hudson Ave</td>\n",
       "      <td>40.689888</td>\n",
       "      <td>-73.981013</td>\n",
       "      <td>17390</td>\n",
       "      <td>Customer</td>\n",
       "      <td>NaN</td>\n",
       "      <td>0</td>\n",
       "    </tr>\n",
       "    <tr>\n",
       "      <th>2</th>\n",
       "      <td>642</td>\n",
       "      <td>5/1/2015 00:00:52</td>\n",
       "      <td>5/1/2015 00:11:35</td>\n",
       "      <td>380</td>\n",
       "      <td>W 4 St &amp; 7 Ave S</td>\n",
       "      <td>40.734011</td>\n",
       "      <td>-74.002939</td>\n",
       "      <td>507</td>\n",
       "      <td>E 25 St &amp; 2 Ave</td>\n",
       "      <td>40.739126</td>\n",
       "      <td>-73.979738</td>\n",
       "      <td>15003</td>\n",
       "      <td>Subscriber</td>\n",
       "      <td>1990.0</td>\n",
       "      <td>1</td>\n",
       "    </tr>\n",
       "    <tr>\n",
       "      <th>3</th>\n",
       "      <td>367</td>\n",
       "      <td>5/1/2015 00:00:48</td>\n",
       "      <td>5/1/2015 00:06:55</td>\n",
       "      <td>537</td>\n",
       "      <td>Lexington Ave &amp; E 24 St</td>\n",
       "      <td>40.740259</td>\n",
       "      <td>-73.984092</td>\n",
       "      <td>280</td>\n",
       "      <td>E 10 St &amp; 5 Ave</td>\n",
       "      <td>40.733320</td>\n",
       "      <td>-73.995101</td>\n",
       "      <td>14788</td>\n",
       "      <td>Subscriber</td>\n",
       "      <td>1978.0</td>\n",
       "      <td>1</td>\n",
       "    </tr>\n",
       "    <tr>\n",
       "      <th>4</th>\n",
       "      <td>2734</td>\n",
       "      <td>5/1/2015 00:00:51</td>\n",
       "      <td>5/1/2015 00:46:26</td>\n",
       "      <td>426</td>\n",
       "      <td>West St &amp; Chambers St</td>\n",
       "      <td>40.717548</td>\n",
       "      <td>-74.013221</td>\n",
       "      <td>327</td>\n",
       "      <td>Vesey Pl &amp; River Terrace</td>\n",
       "      <td>40.715338</td>\n",
       "      <td>-74.016584</td>\n",
       "      <td>21068</td>\n",
       "      <td>Subscriber</td>\n",
       "      <td>1956.0</td>\n",
       "      <td>2</td>\n",
       "    </tr>\n",
       "  </tbody>\n",
       "</table>\n",
       "</div>"
      ],
      "text/plain": [
       "   tripduration          starttime           stoptime  start station id  \\\n",
       "0           415  5/1/2015 00:00:11  5/1/2015 00:07:06               477   \n",
       "1          1523  5/1/2015 00:00:28  5/1/2015 00:25:52               293   \n",
       "2           642  5/1/2015 00:00:52  5/1/2015 00:11:35               380   \n",
       "3           367  5/1/2015 00:00:48  5/1/2015 00:06:55               537   \n",
       "4          2734  5/1/2015 00:00:51  5/1/2015 00:46:26               426   \n",
       "\n",
       "        start station name  start station latitude  start station longitude  \\\n",
       "0          W 41 St & 8 Ave               40.756405               -73.990026   \n",
       "1    Lafayette St & E 8 St               40.730287               -73.990765   \n",
       "2         W 4 St & 7 Ave S               40.734011               -74.002939   \n",
       "3  Lexington Ave & E 24 St               40.740259               -73.984092   \n",
       "4    West St & Chambers St               40.717548               -74.013221   \n",
       "\n",
       "   end station id          end station name  end station latitude  \\\n",
       "0             442           W 27 St & 7 Ave             40.746647   \n",
       "1             324   DeKalb Ave & Hudson Ave             40.689888   \n",
       "2             507           E 25 St & 2 Ave             40.739126   \n",
       "3             280           E 10 St & 5 Ave             40.733320   \n",
       "4             327  Vesey Pl & River Terrace             40.715338   \n",
       "\n",
       "   end station longitude  bikeid    usertype  birth year  gender  \n",
       "0             -73.993915   17012  Subscriber      1981.0       1  \n",
       "1             -73.981013   17390    Customer         NaN       0  \n",
       "2             -73.979738   15003  Subscriber      1990.0       1  \n",
       "3             -73.995101   14788  Subscriber      1978.0       1  \n",
       "4             -74.016584   21068  Subscriber      1956.0       2  "
      ]
     },
     "execution_count": 4,
     "metadata": {},
     "output_type": "execute_result"
    }
   ],
   "source": [
    "df = pd.read_csv(os.getenv(\"PUIDATA\") + \"/\" + datestring1 + '-citibike-tripdata.csv')\n",
    "df2 = pd.read_csv(os.getenv(\"PUIDATA\") + \"/\" + datestring2 + '-citibike-tripdata.csv')\n",
    "\n",
    "df = pd.concat([df,df2],ignore_index=True)\n",
    "\n",
    "df.head()"
   ]
  },
  {
   "cell_type": "code",
   "execution_count": 5,
   "metadata": {
    "collapsed": false
   },
   "outputs": [],
   "source": [
    "# df is the dataframe where the content of the csv file is stored\n",
    "#df['date'] = pd.to_datetime(df['starttime'])\n",
    "# note that with dataframes I can refer to variables as dictionary keys, \n",
    "# i.e. df['starttime'] or as attributes: df.starttime. \n",
    "#df.head()"
   ]
  },
  {
   "cell_type": "code",
   "execution_count": 6,
   "metadata": {
    "collapsed": false
   },
   "outputs": [
    {
     "data": {
      "text/plain": [
       "Index(['tripduration', 'starttime', 'stoptime', 'start station id',\n",
       "       'start station name', 'start station latitude',\n",
       "       'start station longitude', 'end station id', 'end station name',\n",
       "       'end station latitude', 'end station longitude', 'bikeid', 'usertype',\n",
       "       'birth year', 'gender'],\n",
       "      dtype='object')"
      ]
     },
     "execution_count": 6,
     "metadata": {},
     "output_type": "execute_result"
    }
   ],
   "source": [
    "df.columns"
   ]
  },
  {
   "cell_type": "markdown",
   "metadata": {},
   "source": [
    "# BY GENDER\n",
    "splitting data by gender and extracting the age happens in the cell below"
   ]
  },
  {
   "cell_type": "code",
   "execution_count": 7,
   "metadata": {
    "collapsed": false
   },
   "outputs": [],
   "source": [
    "#df is the dataframe where the content of the csv file is stored\n",
    "df['ageM'] = 2015 - df['birth year'][(df['usertype'] == 'Subscriber') & (df['gender'] == 1)]\n",
    "df['ageF'] = 2015 - df['birth year'][(df['usertype'] == 'Subscriber') & (df['gender'] == 2)]"
   ]
  },
  {
   "cell_type": "code",
   "execution_count": 8,
   "metadata": {
    "collapsed": false
   },
   "outputs": [
    {
     "data": {
      "text/html": [
       "<div>\n",
       "<table border=\"1\" class=\"dataframe\">\n",
       "  <thead>\n",
       "    <tr style=\"text-align: right;\">\n",
       "      <th></th>\n",
       "      <th>ageM</th>\n",
       "      <th>ageF</th>\n",
       "      <th>starttime</th>\n",
       "      <th>birth year</th>\n",
       "      <th>usertype</th>\n",
       "    </tr>\n",
       "  </thead>\n",
       "  <tbody>\n",
       "    <tr>\n",
       "      <th>0</th>\n",
       "      <td>34.0</td>\n",
       "      <td>NaN</td>\n",
       "      <td>5/1/2015 00:00:11</td>\n",
       "      <td>1981.0</td>\n",
       "      <td>Subscriber</td>\n",
       "    </tr>\n",
       "    <tr>\n",
       "      <th>1</th>\n",
       "      <td>NaN</td>\n",
       "      <td>NaN</td>\n",
       "      <td>5/1/2015 00:00:28</td>\n",
       "      <td>NaN</td>\n",
       "      <td>Customer</td>\n",
       "    </tr>\n",
       "    <tr>\n",
       "      <th>2</th>\n",
       "      <td>25.0</td>\n",
       "      <td>NaN</td>\n",
       "      <td>5/1/2015 00:00:52</td>\n",
       "      <td>1990.0</td>\n",
       "      <td>Subscriber</td>\n",
       "    </tr>\n",
       "    <tr>\n",
       "      <th>3</th>\n",
       "      <td>37.0</td>\n",
       "      <td>NaN</td>\n",
       "      <td>5/1/2015 00:00:48</td>\n",
       "      <td>1978.0</td>\n",
       "      <td>Subscriber</td>\n",
       "    </tr>\n",
       "    <tr>\n",
       "      <th>4</th>\n",
       "      <td>NaN</td>\n",
       "      <td>59.0</td>\n",
       "      <td>5/1/2015 00:00:51</td>\n",
       "      <td>1956.0</td>\n",
       "      <td>Subscriber</td>\n",
       "    </tr>\n",
       "  </tbody>\n",
       "</table>\n",
       "</div>"
      ],
      "text/plain": [
       "   ageM  ageF          starttime  birth year    usertype\n",
       "0  34.0   NaN  5/1/2015 00:00:11      1981.0  Subscriber\n",
       "1   NaN   NaN  5/1/2015 00:00:28         NaN    Customer\n",
       "2  25.0   NaN  5/1/2015 00:00:52      1990.0  Subscriber\n",
       "3  37.0   NaN  5/1/2015 00:00:48      1978.0  Subscriber\n",
       "4   NaN  59.0  5/1/2015 00:00:51      1956.0  Subscriber"
      ]
     },
     "execution_count": 8,
     "metadata": {},
     "output_type": "execute_result"
    }
   ],
   "source": [
    "#dropping some data I no longer need\n",
    "#... your code here...\n",
    "\n",
    "df = df[['ageM','ageF','starttime','birth year','usertype']]\n",
    "\n",
    "\n",
    "df.head()"
   ]
  },
  {
   "cell_type": "code",
   "execution_count": 9,
   "metadata": {
    "collapsed": false
   },
   "outputs": [
    {
     "name": "stderr",
     "output_type": "stream",
     "text": [
      "/opt/rh/anaconda/root/envs/PUI2016_Python3/lib/python3.5/site-packages/numpy/lib/function_base.py:3403: RuntimeWarning: Invalid value encountered in median\n",
      "  RuntimeWarning)\n"
     ]
    },
    {
     "data": {
      "text/html": [
       "<div>\n",
       "<table border=\"1\" class=\"dataframe\">\n",
       "  <thead>\n",
       "    <tr style=\"text-align: right;\">\n",
       "      <th></th>\n",
       "      <th>ageM</th>\n",
       "      <th>ageF</th>\n",
       "      <th>birth year</th>\n",
       "    </tr>\n",
       "  </thead>\n",
       "  <tbody>\n",
       "    <tr>\n",
       "      <th>count</th>\n",
       "      <td>1.229579e+06</td>\n",
       "      <td>374768.000000</td>\n",
       "      <td>1.605261e+06</td>\n",
       "    </tr>\n",
       "    <tr>\n",
       "      <th>mean</th>\n",
       "      <td>3.912621e+01</td>\n",
       "      <td>37.489249</td>\n",
       "      <td>1.976254e+03</td>\n",
       "    </tr>\n",
       "    <tr>\n",
       "      <th>std</th>\n",
       "      <td>1.149687e+01</td>\n",
       "      <td>11.176182</td>\n",
       "      <td>1.146210e+01</td>\n",
       "    </tr>\n",
       "    <tr>\n",
       "      <th>min</th>\n",
       "      <td>1.600000e+01</td>\n",
       "      <td>16.000000</td>\n",
       "      <td>1.885000e+03</td>\n",
       "    </tr>\n",
       "    <tr>\n",
       "      <th>25%</th>\n",
       "      <td>NaN</td>\n",
       "      <td>NaN</td>\n",
       "      <td>NaN</td>\n",
       "    </tr>\n",
       "    <tr>\n",
       "      <th>50%</th>\n",
       "      <td>NaN</td>\n",
       "      <td>NaN</td>\n",
       "      <td>NaN</td>\n",
       "    </tr>\n",
       "    <tr>\n",
       "      <th>75%</th>\n",
       "      <td>NaN</td>\n",
       "      <td>NaN</td>\n",
       "      <td>NaN</td>\n",
       "    </tr>\n",
       "    <tr>\n",
       "      <th>max</th>\n",
       "      <td>1.300000e+02</td>\n",
       "      <td>115.000000</td>\n",
       "      <td>1.999000e+03</td>\n",
       "    </tr>\n",
       "  </tbody>\n",
       "</table>\n",
       "</div>"
      ],
      "text/plain": [
       "               ageM           ageF    birth year\n",
       "count  1.229579e+06  374768.000000  1.605261e+06\n",
       "mean   3.912621e+01      37.489249  1.976254e+03\n",
       "std    1.149687e+01      11.176182  1.146210e+01\n",
       "min    1.600000e+01      16.000000  1.885000e+03\n",
       "25%             NaN            NaN           NaN\n",
       "50%             NaN            NaN           NaN\n",
       "75%             NaN            NaN           NaN\n",
       "max    1.300000e+02     115.000000  1.999000e+03"
      ]
     },
     "execution_count": 9,
     "metadata": {},
     "output_type": "execute_result"
    }
   ],
   "source": [
    "#your df should look something like this\n",
    "# look at these data carefully... you may see someinteresting values!\n",
    "df.describe()"
   ]
  },
  {
   "cell_type": "code",
   "execution_count": 10,
   "metadata": {
    "collapsed": false
   },
   "outputs": [],
   "source": [
    "# dropping NaN values\n",
    "# does this make sense?\n",
    "df['ageM'].dropna(inplace = True)\n",
    "df['ageF'].dropna(inplace = True)\n"
   ]
  },
  {
   "cell_type": "markdown",
   "metadata": {},
   "source": [
    "lets split age in 10 year bins. the dataset is very large, so i could be split in smaller bins, but I will chose 10 years in the interest of time. \n",
    "the bin size choice should be a balance between properly sample the age space, have enough counts in each bin that the statistical noise is not significant (remember that is > sqrt(N)!) and the computational requirement to computatinal facilities ratio. "
   ]
  },
  {
   "cell_type": "markdown",
   "metadata": {},
   "source": [
    "the next several steps are needed if you want to code up the KS test from scratch. that is for extra credit, so if you do not want to do it you may not need to plot split the distribution in bins and create the cumulative HOWEVER it is a great idea to do it anyways to explore your data viaually! remember Ascombe's quartet!!"
   ]
  },
  {
   "cell_type": "code",
   "execution_count": 11,
   "metadata": {
    "collapsed": false
   },
   "outputs": [
    {
     "data": {
      "text/plain": [
       "<matplotlib.text.Text at 0x7faa698d1f28>"
      ]
     },
     "execution_count": 11,
     "metadata": {},
     "output_type": "execute_result"
    },
    {
     "data": {
      "image/png": "[encoded data removed]",
      "text/plain": [
       "<matplotlib.figure.Figure at 0x7faa6d0f9d68>"
      ]
     },
     "metadata": {},
     "output_type": "display_data"
    },
    {
     "data": {
      "image/png": "[encoded data removed]",
      "text/plain": [
       "<matplotlib.figure.Figure at 0x7faa6d0f9e80>"
      ]
     },
     "metadata": {},
     "output_type": "display_data"
    }
   ],
   "source": [
    "# plotting histogramswith pandas is a bitdifferent than with pylab\n",
    "# this is a VERY USEFUL syntaxfor you to knonw!\n",
    "bins = np.arange(10, 99, 5)\n",
    "axM = df.ageM.groupby(pd.cut(df.ageM, bins)).agg([count_nonzero]).plot(kind='bar', \n",
    "                                                                legend=False)\n",
    "axM.set_title(\"male riders\")\n",
    "axF = df.ageF.groupby(pd.cut(df.ageF, bins)).agg([count_nonzero]).plot(kind='bar',\n",
    "                                                                legend=False)\n",
    "axF.set_title(\"female riders\")\n"
   ]
  },
  {
   "cell_type": "markdown",
   "metadata": {},
   "source": [
    "# Figure 1: histogrammed distribution of riders' ages by gender"
   ]
  },
  {
   "cell_type": "markdown",
   "metadata": {},
   "source": [
    "this is how the cumulative distributions look like.  Notice that i am normalizing them! if i want to reat an observed distribution like a probablility distribution i have to normalize it"
   ]
  },
  {
   "cell_type": "code",
   "execution_count": 12,
   "metadata": {
    "collapsed": false,
    "scrolled": false
   },
   "outputs": [
    {
     "name": "stdout",
     "output_type": "stream",
     "text": [
      "          count_nonzero\n",
      "ageM                   \n",
      "(10, 15]       0.000000\n",
      "(15, 20]       0.000660\n",
      "(20, 25]       0.021093\n",
      "(25, 30]       0.067110\n",
      "(30, 35]       0.077587\n",
      "(35, 40]       0.060362\n",
      "(40, 45]       0.037224\n",
      "(45, 50]       0.020557\n",
      "(50, 55]       0.014718\n",
      "(55, 60]       0.015500\n",
      "(60, 65]       0.007765\n",
      "(65, 70]       0.002725\n",
      "(70, 75]       0.000146\n",
      "(75, 80]       0.000097\n",
      "(80, 85]       0.000003\n",
      "(85, 90]       0.000040\n",
      "(90, 95]       0.000000\n"
     ]
    },
    {
     "data": {
      "text/plain": [
       "<matplotlib.legend.Legend at 0x7faa6c637da0>"
      ]
     },
     "execution_count": 12,
     "metadata": {},
     "output_type": "execute_result"
    },
    {
     "data": {
      "image/png": "[encoded data removed]",
      "text/plain": [
       "<matplotlib.figure.Figure at 0x7faa6d0f9588>"
      ]
     },
     "metadata": {},
     "output_type": "display_data"
    }
   ],
   "source": [
    "#print df.ageS, df.ageS.cumsum()\n",
    "\n",
    "csM=df.ageM.groupby(pd.cut(df.ageM, bins)).agg([count_nonzero]).cumsum()\n",
    "\n",
    "csF=df.ageF.groupby(pd.cut(df.ageF, bins)).agg([count_nonzero]).cumsum()\n",
    "\n",
    "print (np.abs(csM / csM.max()-csF / csF.max()))\n",
    "\n",
    "pl.plot(bins[:-1] + 5, csM / csM.max(), label = \"M\")\n",
    "pl.plot(bins[:-1] + 5, csF / csF.max(), label = \"F\")\n",
    "pl.plot(bins[:-1] + 5, np.sqrt(csF / csF.max() - csM / csM.max())**2, 'k-',\n",
    "        label = \"difference\")\n",
    "pl.xlabel(\"Age\")\n",
    "pl.ylabel(\"Normalized Cumulative Number\")\n",
    "pl.legend()"
   ]
  },
  {
   "cell_type": "markdown",
   "metadata": {},
   "source": [
    "# Figure 2: the cumulative distribution of CitiBike riders' ages by gender"
   ]
  },
  {
   "cell_type": "markdown",
   "metadata": {},
   "source": [
    "They look similar! But the difference gets to 10%. If I wanted to code the KS test by hand I woud have everything I need: the normalized cumulative distributions can be subtracted from each other and the max distance can calculated. \n",
    "\n",
    "Notice that there may be NaN values you are gonna have to deal with! \n",
    "You can do that for example with a Boolean statementsuch as  df.ageF[~np.isnan(df.ageF)] or you can use numpy functions that deal with Nan values: nansum, nanmean, nanstd..."
   ]
  },
  {
   "cell_type": "markdown",
   "metadata": {},
   "source": [
    "lets run the scipy KS test"
   ]
  },
  {
   "cell_type": "code",
   "execution_count": 13,
   "metadata": {
    "collapsed": false,
    "scrolled": false
   },
   "outputs": [],
   "source": [
    "import scipy.stats"
   ]
  },
  {
   "cell_type": "markdown",
   "metadata": {
    "collapsed": true
   },
   "source": [
    "# KS tests to compare 2 samples\n",
    "\n",
    "http://docs.scipy.org/doc/scipy-0.15.1/reference/generated/scipy.stats.ks_2samp.html\n"
   ]
  },
  {
   "cell_type": "code",
   "execution_count": 14,
   "metadata": {
    "collapsed": false
   },
   "outputs": [
    {
     "name": "stdout",
     "output_type": "stream",
     "text": [
      "Ks_2sampResult(statistic=0.07778475905753468, pvalue=0.0)\n"
     ]
    }
   ],
   "source": [
    "ks = scipy.stats.ks_2samp(df.ageM, df.ageF)\n",
    "print (ks)"
   ]
  },
  {
   "cell_type": "markdown",
   "metadata": {},
   "source": [
    "# FILL IN THE CELL BELOW!"
   ]
  },
  {
   "cell_type": "markdown",
   "metadata": {
    "collapsed": true
   },
   "source": [
    "The Null Hypothesis of the KS test is that the distributions of the two samples are the same. The very tiny p-value tells us that we can reject this null hypothesis and claim that the distrubtions of the two samples are different. The p-value says that there is a 0.0% chance of getting these results if the two distributions are the same. \n",
    "\n",
    "The distribution of ages of male Citi Bike riders is different from the distribution of ages of female Citi Bike riders.\n",
    "\n"
   ]
  },
  {
   "cell_type": "markdown",
   "metadata": {},
   "source": [
    "The scipy.stats KS test already tells me the significance and the p-value. \n",
    "\n",
    "The next few cells are here just to show you how you would obtain the same result by hand, but they are **not required**. \n",
    "\n",
    "Remember: the Null hypothesis is rejected if \n",
    "\n",
    "$D_KS(n1,n2) > c(\\alpha) \\sqrt{\\frac{(n1 + n2)}{n1n2}}$\n",
    "\n",
    "(see class notes) where $c(\\alpha$) is the inverse of the KS distribution, and you do not have to know how to get that cause there are tables that list critical values!! \n",
    "\n",
    "http://www.real-statistics.com/tests-normality-and-symmetry/statistical-tests-normality-symmetry/kolmogorov-smirnov-test/kolmogorov-distribution/\n",
    "\n",
    "But also this result depends in your choice of binning through, and thustheresultyou get by hand may not be exactly the same as the one the KS returns. Either way: this is how you would calculate the KS statistics by hand."
   ]
  },
  {
   "cell_type": "code",
   "execution_count": 15,
   "metadata": {
    "collapsed": false
   },
   "outputs": [
    {
     "data": {
      "image/png": "[encoded data removed]",
      "text/plain": [
       "<IPython.core.display.Image object>"
      ]
     },
     "execution_count": 15,
     "metadata": {},
     "output_type": "execute_result"
    }
   ],
   "source": [
    "#here is the critical values tablel. Have you chosen your significance level yet?? you should do it first thing!\n",
    "from IPython.display import Image\n",
    "Image(filename=\"ks2sample_table.png\")"
   ]
  },
  {
   "cell_type": "markdown",
   "metadata": {},
   "source": [
    "# Now redo the test with a subsample of the data: take only 1 ride every of 200 "
   ]
  },
  {
   "cell_type": "code",
   "execution_count": 16,
   "metadata": {
    "collapsed": false,
    "scrolled": false
   },
   "outputs": [
    {
     "data": {
      "text/html": [
       "<div>\n",
       "<table border=\"1\" class=\"dataframe\">\n",
       "  <thead>\n",
       "    <tr style=\"text-align: right;\">\n",
       "      <th></th>\n",
       "      <th>ageM</th>\n",
       "      <th>ageF</th>\n",
       "      <th>starttime</th>\n",
       "      <th>birth year</th>\n",
       "      <th>usertype</th>\n",
       "    </tr>\n",
       "  </thead>\n",
       "  <tbody>\n",
       "    <tr>\n",
       "      <th>0</th>\n",
       "      <td>34.0</td>\n",
       "      <td>NaN</td>\n",
       "      <td>5/1/2015 00:00:11</td>\n",
       "      <td>1981.0</td>\n",
       "      <td>Subscriber</td>\n",
       "    </tr>\n",
       "    <tr>\n",
       "      <th>200</th>\n",
       "      <td>21.0</td>\n",
       "      <td>NaN</td>\n",
       "      <td>5/1/2015 00:54:34</td>\n",
       "      <td>1994.0</td>\n",
       "      <td>Subscriber</td>\n",
       "    </tr>\n",
       "    <tr>\n",
       "      <th>400</th>\n",
       "      <td>NaN</td>\n",
       "      <td>26.0</td>\n",
       "      <td>5/1/2015 03:57:23</td>\n",
       "      <td>1989.0</td>\n",
       "      <td>Subscriber</td>\n",
       "    </tr>\n",
       "    <tr>\n",
       "      <th>600</th>\n",
       "      <td>28.0</td>\n",
       "      <td>NaN</td>\n",
       "      <td>5/1/2015 06:01:08</td>\n",
       "      <td>1987.0</td>\n",
       "      <td>Subscriber</td>\n",
       "    </tr>\n",
       "    <tr>\n",
       "      <th>800</th>\n",
       "      <td>24.0</td>\n",
       "      <td>NaN</td>\n",
       "      <td>5/1/2015 06:26:04</td>\n",
       "      <td>1991.0</td>\n",
       "      <td>Subscriber</td>\n",
       "    </tr>\n",
       "  </tbody>\n",
       "</table>\n",
       "</div>"
      ],
      "text/plain": [
       "     ageM  ageF          starttime  birth year    usertype\n",
       "0    34.0   NaN  5/1/2015 00:00:11      1981.0  Subscriber\n",
       "200  21.0   NaN  5/1/2015 00:54:34      1994.0  Subscriber\n",
       "400   NaN  26.0  5/1/2015 03:57:23      1989.0  Subscriber\n",
       "600  28.0   NaN  5/1/2015 06:01:08      1987.0  Subscriber\n",
       "800  24.0   NaN  5/1/2015 06:26:04      1991.0  Subscriber"
      ]
     },
     "execution_count": 16,
     "metadata": {},
     "output_type": "execute_result"
    }
   ],
   "source": [
    "## your words here!...\n",
    "## this cell is for you to redo the test with reducted dataset \n",
    "## and tell me what the scipy KS test returned and what it means in terms of NULL HYPOTHESIS\n",
    "\n",
    "# subset the data\n",
    "\n",
    "df2 = df.iloc[arange(0,len(df),200),:]\n",
    "\n",
    "df2.head()\n"
   ]
  },
  {
   "cell_type": "code",
   "execution_count": 17,
   "metadata": {
    "collapsed": false
   },
   "outputs": [
    {
     "name": "stdout",
     "output_type": "stream",
     "text": [
      "Ks_2sampResult(statistic=0.4502469265524851, pvalue=0.0)\n"
     ]
    }
   ],
   "source": [
    "ks2 = scipy.stats.ks_2samp(df2.ageM, df2.ageF)\n",
    "print (ks2)"
   ]
  },
  {
   "cell_type": "markdown",
   "metadata": {},
   "source": [
    "Running the test again on a smaller sample reaches the same conclusion. The statistic is higher, but the p-value remains significant at the 5% level. Therefore, we reject the null hypothesis that these sample came from the same distribution and claim the two distributions are different."
   ]
  },
  {
   "cell_type": "markdown",
   "metadata": {},
   "source": [
    "# Pearson's  test for correlation\n",
    "\n",
    "## notice that the Pearson's is a pairwise test: the samples need to be \n",
    "## a. sorted and \n",
    "## b. the same size!\n",
    "\n",
    "http://docs.scipy.org/doc/scipy/reference/generated/scipy.stats.pearsonr.html#scipy.stats.pearsonr\n",
    "\n"
   ]
  },
  {
   "cell_type": "code",
   "execution_count": 18,
   "metadata": {
    "collapsed": false
   },
   "outputs": [
    {
     "name": "stdout",
     "output_type": "stream",
     "text": [
      "(0.99567479257609792, 0.0)\n"
     ]
    }
   ],
   "source": [
    "# your code here!\n",
    "# wrangle the data as needed\n",
    "# please perform the Pearson's test \n",
    "# and tell me what you find in terms of NULL hypothesis\n",
    "\n",
    "ageF = sort(df.ageF)\n",
    "ageM = sort(df.ageM[0:len(ageF)])\n",
    "\n",
    "pear = scipy.stats.pearsonr(ageM, ageF)\n",
    "print (pear)"
   ]
  },
  {
   "cell_type": "markdown",
   "metadata": {},
   "source": [
    "The p-value returned tells us the probability of finding two samples drawn from uncorrelated populations that are as correlated as these. Therefore we can reject the null hypothesis that the two samples are drawn from uncorrelated populations and claim that the samples come from correlated populations. At a 5% significance level, there is a correlation between the ages of men and women Citi Bike riders. "
   ]
  },
  {
   "cell_type": "markdown",
   "metadata": {},
   "source": [
    "# Spearman's  test for correlation\n",
    "\n",
    "http://docs.scipy.org/doc/scipy/reference/generated/scipy.stats.spearmanr.html#scipy.stats.spearmanr"
   ]
  },
  {
   "cell_type": "code",
   "execution_count": 19,
   "metadata": {
    "collapsed": false
   },
   "outputs": [
    {
     "name": "stdout",
     "output_type": "stream",
     "text": [
      "SpearmanrResult(correlation=0.99903947142439375, pvalue=0.0)\n"
     ]
    }
   ],
   "source": [
    "# your code here!\n",
    "# wrangle the data as needed\n",
    "# please perform the Spearman's test and tell me what you find in terms of NULL hypothesis\n",
    "\n",
    "spear = scipy.stats.spearmanr(ageM, ageF)\n",
    "\n",
    "print(spear)\n"
   ]
  },
  {
   "cell_type": "markdown",
   "metadata": {},
   "source": [
    "The p-value returned tells us the probability of finding two samples drawn from uncorrelated populations that are as correlated as these. Therefore we can reject the null hypothesis that the two samples are drawn from uncorrelated populations and claim that the samples come from correlated populations. At a 5% significance level, there is a correlation between the ages of men and women Citi Bike riders. "
   ]
  },
  {
   "cell_type": "markdown",
   "metadata": {},
   "source": [
    "## please comment on the numbers that you get in the light of the scipy manual: what is rerutned? what does it mean??"
   ]
  },
  {
   "cell_type": "markdown",
   "metadata": {},
   "source": [
    "## EXTRA CREDIT:  CHOOSE ONE OF THE TESTS, AND TEST THE CORRELATION OF AGES  OF RIDERS DURING THE DAY VS DURING THE NIGHT!\n",
    "\n"
   ]
  },
  {
   "cell_type": "code",
   "execution_count": 20,
   "metadata": {
    "collapsed": false
   },
   "outputs": [
    {
     "data": {
      "text/html": [
       "<div>\n",
       "<table border=\"1\" class=\"dataframe\">\n",
       "  <thead>\n",
       "    <tr style=\"text-align: right;\">\n",
       "      <th></th>\n",
       "      <th>ageM</th>\n",
       "      <th>ageF</th>\n",
       "      <th>starttime</th>\n",
       "      <th>birth year</th>\n",
       "      <th>usertype</th>\n",
       "    </tr>\n",
       "  </thead>\n",
       "  <tbody>\n",
       "    <tr>\n",
       "      <th>0</th>\n",
       "      <td>34.0</td>\n",
       "      <td>NaN</td>\n",
       "      <td>5/1/2015 00:00:11</td>\n",
       "      <td>1981.0</td>\n",
       "      <td>Subscriber</td>\n",
       "    </tr>\n",
       "    <tr>\n",
       "      <th>1</th>\n",
       "      <td>NaN</td>\n",
       "      <td>NaN</td>\n",
       "      <td>5/1/2015 00:00:28</td>\n",
       "      <td>NaN</td>\n",
       "      <td>Customer</td>\n",
       "    </tr>\n",
       "    <tr>\n",
       "      <th>2</th>\n",
       "      <td>25.0</td>\n",
       "      <td>NaN</td>\n",
       "      <td>5/1/2015 00:00:52</td>\n",
       "      <td>1990.0</td>\n",
       "      <td>Subscriber</td>\n",
       "    </tr>\n",
       "    <tr>\n",
       "      <th>3</th>\n",
       "      <td>37.0</td>\n",
       "      <td>NaN</td>\n",
       "      <td>5/1/2015 00:00:48</td>\n",
       "      <td>1978.0</td>\n",
       "      <td>Subscriber</td>\n",
       "    </tr>\n",
       "    <tr>\n",
       "      <th>4</th>\n",
       "      <td>NaN</td>\n",
       "      <td>59.0</td>\n",
       "      <td>5/1/2015 00:00:51</td>\n",
       "      <td>1956.0</td>\n",
       "      <td>Subscriber</td>\n",
       "    </tr>\n",
       "  </tbody>\n",
       "</table>\n",
       "</div>"
      ],
      "text/plain": [
       "   ageM  ageF          starttime  birth year    usertype\n",
       "0  34.0   NaN  5/1/2015 00:00:11      1981.0  Subscriber\n",
       "1   NaN   NaN  5/1/2015 00:00:28         NaN    Customer\n",
       "2  25.0   NaN  5/1/2015 00:00:52      1990.0  Subscriber\n",
       "3  37.0   NaN  5/1/2015 00:00:48      1978.0  Subscriber\n",
       "4   NaN  59.0  5/1/2015 00:00:51      1956.0  Subscriber"
      ]
     },
     "execution_count": 20,
     "metadata": {},
     "output_type": "execute_result"
    }
   ],
   "source": [
    "df.head()"
   ]
  },
  {
   "cell_type": "code",
   "execution_count": 21,
   "metadata": {
    "collapsed": false
   },
   "outputs": [
    {
     "data": {
      "text/html": [
       "<div>\n",
       "<table border=\"1\" class=\"dataframe\">\n",
       "  <thead>\n",
       "    <tr style=\"text-align: right;\">\n",
       "      <th></th>\n",
       "      <th>ageM</th>\n",
       "      <th>ageF</th>\n",
       "      <th>starttime</th>\n",
       "      <th>birth year</th>\n",
       "      <th>usertype</th>\n",
       "    </tr>\n",
       "  </thead>\n",
       "  <tbody>\n",
       "    <tr>\n",
       "      <th>0</th>\n",
       "      <td>34.0</td>\n",
       "      <td>NaN</td>\n",
       "      <td>5/1/2015 00:00:11</td>\n",
       "      <td>1981.0</td>\n",
       "      <td>Subscriber</td>\n",
       "    </tr>\n",
       "    <tr>\n",
       "      <th>2</th>\n",
       "      <td>25.0</td>\n",
       "      <td>NaN</td>\n",
       "      <td>5/1/2015 00:00:52</td>\n",
       "      <td>1990.0</td>\n",
       "      <td>Subscriber</td>\n",
       "    </tr>\n",
       "    <tr>\n",
       "      <th>3</th>\n",
       "      <td>37.0</td>\n",
       "      <td>NaN</td>\n",
       "      <td>5/1/2015 00:00:48</td>\n",
       "      <td>1978.0</td>\n",
       "      <td>Subscriber</td>\n",
       "    </tr>\n",
       "    <tr>\n",
       "      <th>4</th>\n",
       "      <td>NaN</td>\n",
       "      <td>59.0</td>\n",
       "      <td>5/1/2015 00:00:51</td>\n",
       "      <td>1956.0</td>\n",
       "      <td>Subscriber</td>\n",
       "    </tr>\n",
       "    <tr>\n",
       "      <th>5</th>\n",
       "      <td>54.0</td>\n",
       "      <td>NaN</td>\n",
       "      <td>5/1/2015 00:01:07</td>\n",
       "      <td>1961.0</td>\n",
       "      <td>Subscriber</td>\n",
       "    </tr>\n",
       "  </tbody>\n",
       "</table>\n",
       "</div>"
      ],
      "text/plain": [
       "   ageM  ageF          starttime  birth year    usertype\n",
       "0  34.0   NaN  5/1/2015 00:00:11      1981.0  Subscriber\n",
       "2  25.0   NaN  5/1/2015 00:00:52      1990.0  Subscriber\n",
       "3  37.0   NaN  5/1/2015 00:00:48      1978.0  Subscriber\n",
       "4   NaN  59.0  5/1/2015 00:00:51      1956.0  Subscriber\n",
       "5  54.0   NaN  5/1/2015 00:01:07      1961.0  Subscriber"
      ]
     },
     "execution_count": 21,
     "metadata": {},
     "output_type": "execute_result"
    }
   ],
   "source": [
    "df = df[df['usertype'] == 'Subscriber']\n",
    "\n",
    "df.head()"
   ]
  },
  {
   "cell_type": "code",
   "execution_count": 22,
   "metadata": {
    "collapsed": false
   },
   "outputs": [
    {
     "data": {
      "text/html": [
       "<div>\n",
       "<table border=\"1\" class=\"dataframe\">\n",
       "  <thead>\n",
       "    <tr style=\"text-align: right;\">\n",
       "      <th></th>\n",
       "      <th>ageM</th>\n",
       "      <th>ageF</th>\n",
       "      <th>starttime</th>\n",
       "      <th>birth year</th>\n",
       "      <th>usertype</th>\n",
       "      <th>date</th>\n",
       "    </tr>\n",
       "  </thead>\n",
       "  <tbody>\n",
       "    <tr>\n",
       "      <th>0</th>\n",
       "      <td>34.0</td>\n",
       "      <td>NaN</td>\n",
       "      <td>5/1/2015 00:00:11</td>\n",
       "      <td>1981.0</td>\n",
       "      <td>Subscriber</td>\n",
       "      <td>2015-05-01 00:00:11</td>\n",
       "    </tr>\n",
       "    <tr>\n",
       "      <th>2</th>\n",
       "      <td>25.0</td>\n",
       "      <td>NaN</td>\n",
       "      <td>5/1/2015 00:00:52</td>\n",
       "      <td>1990.0</td>\n",
       "      <td>Subscriber</td>\n",
       "      <td>2015-05-01 00:00:52</td>\n",
       "    </tr>\n",
       "    <tr>\n",
       "      <th>3</th>\n",
       "      <td>37.0</td>\n",
       "      <td>NaN</td>\n",
       "      <td>5/1/2015 00:00:48</td>\n",
       "      <td>1978.0</td>\n",
       "      <td>Subscriber</td>\n",
       "      <td>2015-05-01 00:00:48</td>\n",
       "    </tr>\n",
       "    <tr>\n",
       "      <th>4</th>\n",
       "      <td>NaN</td>\n",
       "      <td>59.0</td>\n",
       "      <td>5/1/2015 00:00:51</td>\n",
       "      <td>1956.0</td>\n",
       "      <td>Subscriber</td>\n",
       "      <td>2015-05-01 00:00:51</td>\n",
       "    </tr>\n",
       "    <tr>\n",
       "      <th>5</th>\n",
       "      <td>54.0</td>\n",
       "      <td>NaN</td>\n",
       "      <td>5/1/2015 00:01:07</td>\n",
       "      <td>1961.0</td>\n",
       "      <td>Subscriber</td>\n",
       "      <td>2015-05-01 00:01:07</td>\n",
       "    </tr>\n",
       "  </tbody>\n",
       "</table>\n",
       "</div>"
      ],
      "text/plain": [
       "   ageM  ageF          starttime  birth year    usertype                date\n",
       "0  34.0   NaN  5/1/2015 00:00:11      1981.0  Subscriber 2015-05-01 00:00:11\n",
       "2  25.0   NaN  5/1/2015 00:00:52      1990.0  Subscriber 2015-05-01 00:00:52\n",
       "3  37.0   NaN  5/1/2015 00:00:48      1978.0  Subscriber 2015-05-01 00:00:48\n",
       "4   NaN  59.0  5/1/2015 00:00:51      1956.0  Subscriber 2015-05-01 00:00:51\n",
       "5  54.0   NaN  5/1/2015 00:01:07      1961.0  Subscriber 2015-05-01 00:01:07"
      ]
     },
     "execution_count": 22,
     "metadata": {},
     "output_type": "execute_result"
    }
   ],
   "source": [
    "df['date'] = pd.to_datetime(df['starttime'])\n",
    "df.head()"
   ]
  },
  {
   "cell_type": "code",
   "execution_count": 23,
   "metadata": {
    "collapsed": false
   },
   "outputs": [],
   "source": [
    "day = df[(df.date.dt.hour.values >= 5) & (df.date.dt.hour.values <= 18)]\n",
    "night = df[(df.date.dt.hour.values < 5) | (df.date.dt.hour.values > 18)]\n",
    "\n"
   ]
  },
  {
   "cell_type": "code",
   "execution_count": 24,
   "metadata": {
    "collapsed": false
   },
   "outputs": [
    {
     "name": "stderr",
     "output_type": "stream",
     "text": [
      "/opt/rh/anaconda/root/envs/PUI2016_Python3/lib/python3.5/site-packages/ipykernel/__main__.py:1: SettingWithCopyWarning: \n",
      "A value is trying to be set on a copy of a slice from a DataFrame.\n",
      "Try using .loc[row_indexer,col_indexer] = value instead\n",
      "\n",
      "See the caveats in the documentation: http://pandas.pydata.org/pandas-docs/stable/indexing.html#indexing-view-versus-copy\n",
      "  if __name__ == '__main__':\n",
      "/opt/rh/anaconda/root/envs/PUI2016_Python3/lib/python3.5/site-packages/ipykernel/__main__.py:2: SettingWithCopyWarning: \n",
      "A value is trying to be set on a copy of a slice from a DataFrame.\n",
      "Try using .loc[row_indexer,col_indexer] = value instead\n",
      "\n",
      "See the caveats in the documentation: http://pandas.pydata.org/pandas-docs/stable/indexing.html#indexing-view-versus-copy\n",
      "  from ipykernel import kernelapp as app\n"
     ]
    }
   ],
   "source": [
    "day['age'] = 2015 - day['birth year'][(day['usertype'] == 'Subscriber')]\n",
    "night['age'] = 2015 - night['birth year'][(night['usertype'] == 'Subscriber')]"
   ]
  },
  {
   "cell_type": "code",
   "execution_count": 25,
   "metadata": {
    "collapsed": false
   },
   "outputs": [
    {
     "name": "stdout",
     "output_type": "stream",
     "text": [
      "Ks_2sampResult(statistic=0.77928753046792287, pvalue=0.0)\n"
     ]
    }
   ],
   "source": [
    "ks3 = scipy.stats.ks_2samp(day.age, night.ageF)\n",
    "print (ks3)"
   ]
  },
  {
   "cell_type": "markdown",
   "metadata": {
    "collapsed": true
   },
   "source": [
    "At a 5% significance level, I can reject the null hypothesis that the distributions of day ages and night ages are the same. "
   ]
  }
 ],
 "metadata": {
  "kernelspec": {
   "display_name": "PUI2016_Python3",
   "language": "python",
   "name": "pui2016_python3"
  },
  "language_info": {
   "codemirror_mode": {
    "name": "ipython",
    "version": 3
   },
   "file_extension": ".py",
   "mimetype": "text/x-python",
   "name": "python",
   "nbconvert_exporter": "python",
   "pygments_lexer": "ipython3",
   "version": "3.5.2"
  }
 },
 "nbformat": 4,
 "nbformat_minor": 0
}
